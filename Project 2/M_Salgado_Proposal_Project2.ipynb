{
 "cells": [
  {
   "cell_type": "markdown",
   "id": "6549452d-0c6b-4a9d-9639-1baec4de2f77",
   "metadata": {},
   "source": [
    "# Project Proposal\n",
    "\n",
    "## Introduction \n",
    "Solar energy is one of the fastest-growing renewable energy sources globally, playing a crucial role in reducing carbon emissions and combating climate change. However, its effectiveness is strongly influenced by environmental factors such as temperature, cloud cover, and wind speed, which cause fluctuations in energy output. These inconsistencies pose challenges for energy grid managers who must ensure a stable and efficient power supply. In urban areas where solar panel space is limited and energy demand is high, accurate forecasting of solar energy production is especially critical. By improving prediction models using historical environmental data, we can better plan for energy availability, enhance grid reliability, and reduce unnecessary reliance on backup fossil-fuel sources.\n",
    "The growth of renewable energy applications has come with tremendous advantages as well as challenges, particularly in managing the energy resources in the best way. Solar energy generation is among the most important ones and widely dependent on the conditions in which it occurs, i.e., temperature, humidity, and cloud cover.\n",
    "Prediction and evaluation of solar energy output result in improved energy distribution and cost-saving ideas and can help cut down on environmental effects.\n",
    "\n"
   ]
  },
  {
   "cell_type": "markdown",
   "id": "056e1f4d-c187-4111-9752-e2ce5578e95e",
   "metadata": {},
   "source": [
    "## Research Question and Data\n",
    "\n",
    "We will ask how do environmental conditions such as temperature, cloud cover, and wind speed impact hourly solar energy production in a selected U.S. region?\n",
    "Can a machine learning model be developed to accurately predict solar energy output based on historical weather and solar radiation data?\n",
    "Real-World Impact:\n",
    "Addressing these questions will offer direct benefits to energy providers, city planners, and sustainability efforts. More accurate forecasts allow grid operators to better match supply with demand, reducing the risk of energy shortages or waste. In regions aiming to transition to cleaner energy sources, prediction tools enable smarter investments in solar infrastructure. The insights gained could also help policymakers design more resilient energy strategies, particularly in climate-sensitive urban areas.\n",
    "Our data will be acquired through the National Renewable Energy Laboratory\n",
    "(NREL), which offers free access to data about solar radiation and energy generation in the U.S. This data set has numeric and categorical variables that are suitably fit to do time series analysis. The data is updated continually and includes hourly data of the solar radiation and other weather variables like temperature, wind speed, cloud cover, etc.\n",
    "\n",
    "The data is available through the Solar Resource Data API on the NREL portal, which enables you to download the required information about solar radiation and weather details around a particular area and time of day. The data will be downloaded in the form of a CSV file and will be of multiple years.\n",
    "\n",
    "We will also use the following provide data:\n",
    "* State of Global Air (https://www.stateofglobalair.org/data/): Mortality and exposure data by pollutant, country, and year.\n",
    "* WHO Ambient Air Quality Database (2024) (https://www.who.int/publications/m/item/who-ambient-air-quality-database-(update-jan-2024)): PM2.5 and ozone exposure values by country.\n",
    "* Air Quality Life Index (https://aqli.epic.uchicago.edu): Data on life expectancy reduction from air pollution exposure.\n",
    "* American Lung Association (https://www.lung.org/research/sota/health-risks): U.S. based data on air quality and health outcomes.\n",
    "* OpenAQ (https://openaq.org/why-air-quality): Contextual background on global air quality trends and measurement.\n"
   ]
  },
  {
   "cell_type": "markdown",
   "id": "515b846d-05d5-48af-97d5-d54825099865",
   "metadata": {},
   "source": [
    "# Approach\n",
    "\n",
    "Data Storage and Cleaning:\n",
    "The dataset will be stored in memory as a Pandas DataFrame, with initial cleaning steps to handle missing values, normalize numerical features, and encode categorical variables. Any outliers in environmental metrics will be detected and treated to prevent model distortion.\n",
    "To make the model simple and manageable in the predictions, I will analyze the data on the basis of one year (i.e., January to December). I will likely assume that temperature and cloud coverage as direct environmental variables are the most influential factors affecting solar energy production.To keep it simple, I will not refer to other factors like seasonal variation of the angle of sunlight or regional infrastructure, which will complicate the model.\n",
    "EDA will help visualize relationships between solar energy output and weather conditions using:\n",
    "\n",
    "* Correlation matrices\n",
    "* Time series plots\n",
    "* Histograms and boxplots\n",
    "* Scatter plots\n",
    "\n",
    "This step will identify which features are most strongly associated with changes in solar output.\n",
    "\n",
    "Modeling:\n",
    "\n",
    "* Machine learning models including Linear Regression and Random Forest Regressor will be implemented using scikit-learn to build predictive frameworks. \n",
    "* Cross-validation techniques will be used to test model generalizability, and models will be evaluated based on:\n",
    "    * Mean Absolute Error (MAE)\n",
    "    * Root Mean Squared Error (RMSE)\n",
    "\n",
    "* Visualization & Interpretation:\n",
    "    * Prediction results will be visualized alongside actual solar output to assess model accuracy. These visual outputs will help communicate the reliability of the forecasts and guide possible adjustments to improve future performance.\n",
    "\n",
    "* Feasibility:\n",
    "    * Focusing on one geographic region and a single year of data ensures that the project remains achievable within the time constraints. All tasks—including data collection, analysis, modeling, and documentation—will be carried out independently, using open-source tools and reproducible code."
   ]
  },
  {
   "cell_type": "markdown",
   "id": "6e2fe0ac",
   "metadata": {},
   "source": [
    "Roles:\n",
    "\n",
    "* Data cleaning and preprocessing- Akash Ramkaran\n",
    "\n",
    "* EDA- Moises Salgado\n",
    "\n",
    "* Modeling and evaluation- Cody Frucht\n",
    "\n",
    "* Reporting and integration- Tamim Khan"
   ]
  }
 ],
 "metadata": {
  "kernelspec": {
   "display_name": "Python 3 (ipykernel)",
   "language": "python",
   "name": "python3"
  },
  "language_info": {
   "codemirror_mode": {
    "name": "ipython",
    "version": 3
   },
   "file_extension": ".py",
   "mimetype": "text/x-python",
   "name": "python",
   "nbconvert_exporter": "python",
   "pygments_lexer": "ipython3",
   "version": "3.12.7"
  }
 },
 "nbformat": 4,
 "nbformat_minor": 5
}
